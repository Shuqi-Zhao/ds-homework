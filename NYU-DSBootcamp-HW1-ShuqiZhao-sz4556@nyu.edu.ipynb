{
 "cells": [
  {
   "cell_type": "code",
   "execution_count": 1,
   "id": "9359271c",
   "metadata": {},
   "outputs": [],
   "source": [
    "# 1. Display Fibonacci Series upto 10 terms\n",
    "# 2. Display numbers at the odd indices of a list\n",
    "# 3. Print a list in reverse order\n",
    "# 4. Your task is to count the number of different words in this text\n",
    "\t\n",
    "# \tstring = \"\"\"\n",
    "# \tChatGPT has created this text to provide tips on creating interesting paragraphs. \n",
    "# \tFirst, start with a clear topic sentence that introduces the main idea. \n",
    "# \tThen, support the topic sentence with specific details, examples, and evidence.\n",
    "# \tVary the sentence length and structure to keep the reader engaged.\n",
    "# \tFinally, end with a strong concluding sentence that summarizes the main points.\n",
    "# \tRemember, practice makes perfect!\n",
    "# \t\"\"\"\n",
    "\n",
    "# 5. Write a function that takes a word as an argument and returns the number of vowels in the word\n",
    "# 6. Iterate through the following list of animals and print each one in all caps.\n",
    "\n",
    "#   animals=['tiger', 'elephant', 'monkey', 'zebra', 'panther']\n",
    "\n",
    "# 7. Iterate from 1 to 15, printing whether the number is odd or even\n",
    "# 8. Take two integers as input from user and return the sum"
   ]
  },
  {
   "cell_type": "code",
   "execution_count": 3,
   "id": "43b11768",
   "metadata": {
    "scrolled": true
   },
   "outputs": [
    {
     "name": "stdout",
     "output_type": "stream",
     "text": [
      "1\n",
      "1\n",
      "2\n",
      "3\n",
      "5\n",
      "8\n",
      "13\n",
      "21\n",
      "34\n",
      "55\n"
     ]
    }
   ],
   "source": [
    "# 1. Display Fibonacci Series upto 10 terms\n",
    "def fibb(n):\n",
    "    if n == 0 or n == 1:\n",
    "        return 1\n",
    "    else:\n",
    "        result =  fibb(n-1) + fibb(n-2)\n",
    "        return result\n",
    "for i in range(10):\n",
    "    print(fibb(i))"
   ]
  },
  {
   "cell_type": "code",
   "execution_count": 4,
   "id": "f2e81322",
   "metadata": {},
   "outputs": [
    {
     "name": "stdout",
     "output_type": "stream",
     "text": [
      "Fibonacci Series up to 10 terms: [0, 1, 1, 2, 3, 5, 8, 13, 21, 34]\n"
     ]
    }
   ],
   "source": [
    "# 1. Display Fibonacci Series upto 10 terms- another way\n",
    "# 定义Fibonacci数列生成函数\n",
    "def generate_fibonacci(n_terms):\n",
    "    a, b = 0, 1  # 初始化前两个Fibonacci数\n",
    "    fibonacci_series = []  # 初始化一个空列表用于存储Fibonacci数列\n",
    "    \n",
    "    for _ in range(n_terms):\n",
    "        fibonacci_series.append(a)  # 将当前的'a'值加入到数列中\n",
    "        a, b = b, a + b  # 用简洁的Python语法更新'a'和'b'\n",
    "        \n",
    "    return fibonacci_series\n",
    "\n",
    "# 生成并显示前10项Fibonacci数列\n",
    "n_terms = 10\n",
    "result = generate_fibonacci(n_terms)\n",
    "print(\"Fibonacci Series up to {} terms: {}\".format(n_terms, result))"
   ]
  },
  {
   "cell_type": "code",
   "execution_count": 5,
   "id": "0407db36",
   "metadata": {},
   "outputs": [
    {
     "name": "stdout",
     "output_type": "stream",
     "text": [
      "Numbers at odd indices: [20, 40, 60, 80]\n"
     ]
    }
   ],
   "source": [
    "# 2. Display numbers at the odd indices of a list\n",
    "# 定义一个包含数字的列表\n",
    "my_list = [10, 20, 30, 40, 50, 60, 70, 80, 90]\n",
    "\n",
    "# 使用切片来获取奇数索引处的元素\n",
    "# 切片的语法是[start:stop:step]，这里从索引1开始，步长为2\n",
    "odd_indices_elements = my_list[1::2] #从1开始步长为2\n",
    "\n",
    "# 输出结果\n",
    "print(\"Numbers at odd indices:\", odd_indices_elements)"
   ]
  },
  {
   "cell_type": "code",
   "execution_count": 6,
   "id": "e80b1050",
   "metadata": {},
   "outputs": [],
   "source": [
    "# 在Python中，切片（slicing）是一种用于获取序列类型（如列表、元组、字符串等）中一部分元素的便捷方式。切片的语法是 sequence[start:stop:step]，其中：\n",
    "\n",
    "# start: 是切片开始位置的索引。如果省略，就从序列的开始位置（索引为0）开始。\n",
    "\n",
    "# stop: 是切片结束位置的索引（不包括此索引处的元素）。如果省略，切片将继续到序列的末尾。\n",
    "\n",
    "# # step: 是切片的步长，即从 start 开始，每隔 step-1 的元素会被取出，直到达到 stop 位置（不包括 stop）。如果省略，步长默认为1。"
   ]
  },
  {
   "cell_type": "code",
   "execution_count": 7,
   "id": "32a059c9",
   "metadata": {},
   "outputs": [
    {
     "name": "stdout",
     "output_type": "stream",
     "text": [
      "[0, 1, 2]\n"
     ]
    }
   ],
   "source": [
    "my_list = [0, 1, 2, 3, 4, 5]\n",
    "print(my_list[0:3])  # Output: [0, 1, 2]\n",
    "# 前三个元素"
   ]
  },
  {
   "cell_type": "code",
   "execution_count": 8,
   "id": "c3a786b8",
   "metadata": {},
   "outputs": [
    {
     "name": "stdout",
     "output_type": "stream",
     "text": [
      "[3, 4, 5]\n"
     ]
    }
   ],
   "source": [
    "print(my_list[-3:])  # Output: [3, 4, 5]\n",
    "# 后三个元素"
   ]
  },
  {
   "cell_type": "code",
   "execution_count": 9,
   "id": "356460d5",
   "metadata": {},
   "outputs": [
    {
     "name": "stdout",
     "output_type": "stream",
     "text": [
      "[0, 2, 4]\n"
     ]
    }
   ],
   "source": [
    "print(my_list[::2])  # Output: [0, 2, 4]\n",
    "# 选取偶数位"
   ]
  },
  {
   "cell_type": "code",
   "execution_count": 10,
   "id": "1fc45c07",
   "metadata": {},
   "outputs": [
    {
     "name": "stdout",
     "output_type": "stream",
     "text": [
      "[5, 4, 3, 2, 1, 0]\n"
     ]
    }
   ],
   "source": [
    "print(my_list[::-1])  # Output: [5, 4, 3, 2, 1, 0]\n",
    "# 翻转列表"
   ]
  },
  {
   "cell_type": "code",
   "execution_count": 11,
   "id": "c0515744",
   "metadata": {},
   "outputs": [
    {
     "name": "stdout",
     "output_type": "stream",
     "text": [
      "[1, 3, 5]\n"
     ]
    }
   ],
   "source": [
    "print(my_list[1::2])  # Output: [1, 3, 5]\n",
    "# 奇数位"
   ]
  },
  {
   "cell_type": "code",
   "execution_count": 12,
   "id": "057331f9",
   "metadata": {},
   "outputs": [
    {
     "name": "stdout",
     "output_type": "stream",
     "text": [
      "[6, 5, 4, 3, 2, 1]\n"
     ]
    }
   ],
   "source": [
    "#  3. Print a list in reverse order\n",
    "myList=[1,2,3,4,5,6]\n",
    "print(myList[::-1])"
   ]
  },
  {
   "cell_type": "code",
   "execution_count": 13,
   "id": "3e8b22dd",
   "metadata": {},
   "outputs": [
    {
     "name": "stdout",
     "output_type": "stream",
     "text": [
      "Number of different words: 47\n"
     ]
    }
   ],
   "source": [
    "# 4. Your task is to count the number of different words in this text\n",
    "\t\n",
    "# # \tstring = \"\"\"\n",
    "# # \tChatGPT has created this text to provide tips on creating interesting paragraphs. \n",
    "# # \tFirst, start with a clear topic sentence that introduces the main idea. \n",
    "# # \tThen, support the topic sentence with specific details, examples, and evidence.\n",
    "# # \tVary the sentence length and structure to keep the reader engaged.\n",
    "# # \tFinally, end with a strong concluding sentence that summarizes the main points.\n",
    "# # \tRemember, practice makes perfect!\n",
    "# # \t\"\"\"\n",
    "from collections import Counter\n",
    "\n",
    "string = \"\"\"\n",
    "ChatGPT has created this text to provide tips on creating interesting paragraphs. \n",
    "First, start with a clear topic sentence that introduces the main idea. \n",
    "Then, support the topic sentence with specific details, examples, and evidence.\n",
    "Vary the sentence length and structure to keep the reader engaged.\n",
    "Finally, end with a strong concluding sentence that summarizes the main points.\n",
    "Remember, practice makes perfect!\n",
    "\"\"\"\n",
    "\n",
    "# 使用string的split方法来分割字符串，并将所有字符转换为小写\n",
    "words = string.lower().split()\n",
    "\n",
    "# 清除单词中的标点符号\n",
    "cleaned_words = [''.join(char for char in word if char.isalnum()) for word in words]\n",
    "\n",
    "# 使用Counter统计单词频率\n",
    "word_count = Counter(cleaned_words)\n",
    "\n",
    "# 输出不同单词的数量\n",
    "print(\"Number of different words:\", len(word_count))\n"
   ]
  },
  {
   "cell_type": "code",
   "execution_count": 14,
   "id": "a4e97e9f",
   "metadata": {},
   "outputs": [
    {
     "name": "stdout",
     "output_type": "stream",
     "text": [
      "Number of different words: 47\n"
     ]
    }
   ],
   "source": [
    "import re\n",
    "from collections import Counter\n",
    "\n",
    "string = \"\"\"\n",
    "ChatGPT has created this text to provide tips on creating interesting paragraphs. \n",
    "First, start with a clear topic sentence that introduces the main idea. \n",
    "Then, support the topic sentence with specific details, examples, and evidence.\n",
    "Vary the sentence length and structure to keep the reader engaged.\n",
    "Finally, end with a strong concluding sentence that summarizes the main points.\n",
    "Remember, practice makes perfect!\n",
    "\"\"\"\n",
    "\n",
    "# 使用正则表达式将文本转换为单词列表，只保留字母\n",
    "words = re.findall(r'\\b\\w+\\b', string.lower())\n",
    "\n",
    "# 使用Counter统计单词频率\n",
    "word_count = Counter(words)\n",
    "\n",
    "# 输出不同单词的数量\n",
    "print(\"Number of different words:\", len(word_count))\n"
   ]
  },
  {
   "cell_type": "code",
   "execution_count": 15,
   "id": "ec35356c",
   "metadata": {},
   "outputs": [
    {
     "name": "stdout",
     "output_type": "stream",
     "text": [
      "2\n",
      "1\n"
     ]
    }
   ],
   "source": [
    "# 5. Write a function that takes a word as an argument and returns the number of vowels in the word\n",
    "def count_vowels(word):\n",
    "    vowels = \"aeiouAEIOU\"  # 定义一个包含所有元音字母（大写和小写）的字符串\n",
    "    return sum(1 for char in word if char in vowels)  # 使用列表推导来计算元音字母的数量\n",
    "\n",
    "# 测试函数\n",
    "print(count_vowels(\"Hello\"))  # 输出应为 2（e 和 o）\n",
    "print(count_vowels(\"Python\"))  # 输出应为 1（o）\n"
   ]
  },
  {
   "cell_type": "code",
   "execution_count": 16,
   "id": "e9d12d59",
   "metadata": {},
   "outputs": [
    {
     "name": "stdout",
     "output_type": "stream",
     "text": [
      "TIGER\n",
      "ELEPHANT\n",
      "MONKEY\n",
      "ZEBRA\n",
      "PANTHER\n"
     ]
    }
   ],
   "source": [
    "# 6. Iterate through the following list of animals and print each one in all caps.\n",
    "\n",
    "#    animals=['tiger', 'elephant', 'monkey', 'zebra', 'panther']\n",
    "animals = ['tiger', 'elephant', 'monkey', 'zebra', 'panther']\n",
    "\n",
    "for animal in animals:\n",
    "    print(animal.upper())\n"
   ]
  },
  {
   "cell_type": "code",
   "execution_count": 30,
   "id": "a30abe12",
   "metadata": {},
   "outputs": [
    {
     "name": "stdout",
     "output_type": "stream",
     "text": [
      "1 is odd\n",
      "2 is even\n",
      "3 is odd\n",
      "4 is even\n",
      "5 is odd\n",
      "6 is even\n",
      "7 is odd\n",
      "8 is even\n",
      "9 is odd\n",
      "10 is even\n",
      "11 is odd\n",
      "12 is even\n",
      "13 is odd\n",
      "14 is even\n",
      "15 is odd\n"
     ]
    }
   ],
   "source": [
    "# 7. Iterate from 1 to 15, printing whether the number is odd or even\n",
    "for i in range(1, 16):\n",
    "    if i % 2 == 1:\n",
    "        print(\"{} is odd\".format(i))\n",
    "    elif i % 2 == 0:\n",
    "        print(\"{} is even\".format(i))"
   ]
  },
  {
   "cell_type": "code",
   "execution_count": null,
   "id": "b44f2b12",
   "metadata": {},
   "outputs": [],
   "source": [
    "# 8. Take two integers as input from user and return the sum\n",
    "# 使用 input() 函数接收用户输入，并使用 int() 函数将输入转换为整数\n",
    "num1 = int(input(\"请输入第一个整数：\"))\n",
    "num2 = int(input(\"请输入第二个整数：\"))\n",
    "\n",
    "# 计算两个整数的和\n",
    "sum = num1 + num2\n",
    "\n",
    "# 输出结果\n",
    "print(\"两个整数的和是：\", sum)\n"
   ]
  },
  {
   "cell_type": "code",
   "execution_count": null,
   "id": "d8faee17",
   "metadata": {},
   "outputs": [],
   "source": [
    "# 直接赋值\n",
    "num1 = 3\n",
    "num2 = 4\n",
    "\n",
    "# 计算两个整数的和\n",
    "sum = num1 + num2\n",
    "\n",
    "# 输出结果\n",
    "print(\"两个整数的和是：\", sum)\n"
   ]
  },
  {
   "cell_type": "code",
   "execution_count": null,
   "id": "1a8a441f",
   "metadata": {},
   "outputs": [],
   "source": []
  }
 ],
 "metadata": {
  "kernelspec": {
   "display_name": "Python 3",
   "language": "python",
   "name": "python3"
  },
  "language_info": {
   "codemirror_mode": {
    "name": "ipython",
    "version": 3
   },
   "file_extension": ".py",
   "mimetype": "text/x-python",
   "name": "python",
   "nbconvert_exporter": "python",
   "pygments_lexer": "ipython3",
   "version": "3.8.8"
  }
 },
 "nbformat": 4,
 "nbformat_minor": 5
}
