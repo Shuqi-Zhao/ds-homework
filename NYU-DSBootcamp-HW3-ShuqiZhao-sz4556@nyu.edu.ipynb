{
 "cells": [
  {
   "cell_type": "code",
   "execution_count": 3,
   "id": "f266ea63",
   "metadata": {},
   "outputs": [
    {
     "name": "stdout",
     "output_type": "stream",
     "text": [
      "Stacked Vertically:\n",
      "[[ 1  2  3]\n",
      " [ 4  5  6]\n",
      " [ 7  8  9]\n",
      " [10 11 12]]\n",
      "Stacked Horizontally:\n",
      "[[ 1  2  3  7  8  9]\n",
      " [ 4  5  6 10 11 12]]\n"
     ]
    }
   ],
   "source": [
    "import numpy as np\n",
    "\n",
    "# Create two custom NumPy arrays A and B\n",
    "A = np.array([[1, 2, 3],\n",
    "              [4, 5, 6]])\n",
    "\n",
    "B = np.array([[7, 8, 9],\n",
    "              [10, 11, 12]])\n",
    "\n",
    "# Stack A and B vertically\n",
    "stacked_vertically = np.vstack((A, B))\n",
    "\n",
    "# Stack A and B horizontally\n",
    "stacked_horizontally = np.hstack((A, B))\n",
    "\n",
    "print(\"Stacked Vertically:\")\n",
    "print(stacked_vertically)\n",
    "\n",
    "print(\"Stacked Horizontally:\")\n",
    "print(stacked_horizontally)\n"
   ]
  },
  {
   "cell_type": "code",
   "execution_count": 4,
   "id": "4ac792ec",
   "metadata": {},
   "outputs": [
    {
     "name": "stdout",
     "output_type": "stream",
     "text": [
      "Common Elements:\n",
      "[3 4 5]\n"
     ]
    }
   ],
   "source": [
    "import numpy as np\n",
    "\n",
    "# Create two custom NumPy arrays A and B\n",
    "A = np.array([1, 2, 3, 4, 5])\n",
    "B = np.array([3, 4, 5, 6, 7])\n",
    "\n",
    "# Find the common elements between A and B\n",
    "common_elements = np.intersect1d(A, B)\n",
    "\n",
    "print(\"Common Elements:\")\n",
    "print(common_elements)\n"
   ]
  },
  {
   "cell_type": "code",
   "execution_count": 5,
   "id": "4c18ed78",
   "metadata": {},
   "outputs": [
    {
     "name": "stdout",
     "output_type": "stream",
     "text": [
      "Elements within the range [5, 10]:\n",
      "[ 6  8 10]\n"
     ]
    }
   ],
   "source": [
    "import numpy as np\n",
    "\n",
    "# Create a custom NumPy array A\n",
    "A = np.array([2, 4, 6, 8, 10, 12, 14])\n",
    "\n",
    "# Define the specific range (e.g., between 5 and 10)\n",
    "lower_limit = 5\n",
    "upper_limit = 10\n",
    "\n",
    "# Create a boolean mask for elements within the specified range\n",
    "mask = (A >= lower_limit) & (A <= upper_limit)\n",
    "\n",
    "# Use the mask to extract elements within the range\n",
    "elements_in_range = A[mask]\n",
    "\n",
    "print(\"Elements within the range [{}, {}]:\".format(lower_limit, upper_limit))\n",
    "print(elements_in_range)\n"
   ]
  },
  {
   "cell_type": "code",
   "execution_count": 6,
   "id": "a97efb3d",
   "metadata": {},
   "outputs": [
    {
     "name": "stdout",
     "output_type": "stream",
     "text": [
      "Filtered Rows:\n",
      "[[4.8 3.4 1.6 0.2]\n",
      " [4.8 3.4 1.9 0.2]\n",
      " [4.7 3.2 1.6 0.2]\n",
      " [4.8 3.1 1.6 0.2]\n",
      " [4.9 2.4 3.3 1. ]\n",
      " [4.9 2.5 4.5 1.7]]\n"
     ]
    }
   ],
   "source": [
    "import numpy as np\n",
    "\n",
    "# Define the URL and load the data into iris_2d\n",
    "url = 'https://archive.ics.uci.edu/ml/machine-learning-databases/iris/iris.data'\n",
    "iris_2d = np.genfromtxt(url, delimiter=',', dtype='float', usecols=[0, 1, 2, 3])\n",
    "\n",
    "# Define the conditions for filtering\n",
    "petal_length_condition = iris_2d[:, 2] > 1.5\n",
    "sepal_length_condition = iris_2d[:, 0] < 5.0\n",
    "\n",
    "# Combine the conditions using logical AND (&) to filter the rows\n",
    "filtered_rows = iris_2d[petal_length_condition & sepal_length_condition]\n",
    "\n",
    "print(\"Filtered Rows:\")\n",
    "print(filtered_rows)\n"
   ]
  },
  {
   "cell_type": "code",
   "execution_count": 7,
   "id": "18b69b86",
   "metadata": {},
   "outputs": [
    {
     "ename": "IndexError",
     "evalue": ".iloc requires numeric indexers, got ['Manufacturer' 'Model' 'Type']",
     "output_type": "error",
     "traceback": [
      "\u001b[1;31m---------------------------------------------------------------------------\u001b[0m",
      "\u001b[1;31mIndexError\u001b[0m                                Traceback (most recent call last)",
      "\u001b[1;32m<ipython-input-7-d132dba87dcc>\u001b[0m in \u001b[0;36m<module>\u001b[1;34m\u001b[0m\n\u001b[0;32m      5\u001b[0m \u001b[1;33m\u001b[0m\u001b[0m\n\u001b[0;32m      6\u001b[0m \u001b[1;31m# Filter every 20th row starting from the 1st row (row 0)\u001b[0m\u001b[1;33m\u001b[0m\u001b[1;33m\u001b[0m\u001b[1;33m\u001b[0m\u001b[0m\n\u001b[1;32m----> 7\u001b[1;33m \u001b[0mfiltered_data\u001b[0m \u001b[1;33m=\u001b[0m \u001b[0mdf\u001b[0m\u001b[1;33m.\u001b[0m\u001b[0miloc\u001b[0m\u001b[1;33m[\u001b[0m\u001b[1;33m:\u001b[0m\u001b[1;33m:\u001b[0m\u001b[1;36m20\u001b[0m\u001b[1;33m,\u001b[0m \u001b[1;33m[\u001b[0m\u001b[1;34m'Manufacturer'\u001b[0m\u001b[1;33m,\u001b[0m \u001b[1;34m'Model'\u001b[0m\u001b[1;33m,\u001b[0m \u001b[1;34m'Type'\u001b[0m\u001b[1;33m]\u001b[0m\u001b[1;33m]\u001b[0m\u001b[1;33m\u001b[0m\u001b[1;33m\u001b[0m\u001b[0m\n\u001b[0m\u001b[0;32m      8\u001b[0m \u001b[1;33m\u001b[0m\u001b[0m\n\u001b[0;32m      9\u001b[0m \u001b[0mprint\u001b[0m\u001b[1;33m(\u001b[0m\u001b[0mfiltered_data\u001b[0m\u001b[1;33m)\u001b[0m\u001b[1;33m\u001b[0m\u001b[1;33m\u001b[0m\u001b[0m\n",
      "\u001b[1;32mD:\\anaconda\\lib\\site-packages\\pandas\\core\\indexing.py\u001b[0m in \u001b[0;36m__getitem__\u001b[1;34m(self, key)\u001b[0m\n\u001b[0;32m    887\u001b[0m                     \u001b[1;31m# AttributeError for IntervalTree get_value\u001b[0m\u001b[1;33m\u001b[0m\u001b[1;33m\u001b[0m\u001b[1;33m\u001b[0m\u001b[0m\n\u001b[0;32m    888\u001b[0m                     \u001b[1;32mreturn\u001b[0m \u001b[0mself\u001b[0m\u001b[1;33m.\u001b[0m\u001b[0mobj\u001b[0m\u001b[1;33m.\u001b[0m\u001b[0m_get_value\u001b[0m\u001b[1;33m(\u001b[0m\u001b[1;33m*\u001b[0m\u001b[0mkey\u001b[0m\u001b[1;33m,\u001b[0m \u001b[0mtakeable\u001b[0m\u001b[1;33m=\u001b[0m\u001b[0mself\u001b[0m\u001b[1;33m.\u001b[0m\u001b[0m_takeable\u001b[0m\u001b[1;33m)\u001b[0m\u001b[1;33m\u001b[0m\u001b[1;33m\u001b[0m\u001b[0m\n\u001b[1;32m--> 889\u001b[1;33m             \u001b[1;32mreturn\u001b[0m \u001b[0mself\u001b[0m\u001b[1;33m.\u001b[0m\u001b[0m_getitem_tuple\u001b[0m\u001b[1;33m(\u001b[0m\u001b[0mkey\u001b[0m\u001b[1;33m)\u001b[0m\u001b[1;33m\u001b[0m\u001b[1;33m\u001b[0m\u001b[0m\n\u001b[0m\u001b[0;32m    890\u001b[0m         \u001b[1;32melse\u001b[0m\u001b[1;33m:\u001b[0m\u001b[1;33m\u001b[0m\u001b[1;33m\u001b[0m\u001b[0m\n\u001b[0;32m    891\u001b[0m             \u001b[1;31m# we by definition only have the 0th axis\u001b[0m\u001b[1;33m\u001b[0m\u001b[1;33m\u001b[0m\u001b[1;33m\u001b[0m\u001b[0m\n",
      "\u001b[1;32mD:\\anaconda\\lib\\site-packages\\pandas\\core\\indexing.py\u001b[0m in \u001b[0;36m_getitem_tuple\u001b[1;34m(self, tup)\u001b[0m\n\u001b[0;32m   1448\u001b[0m     \u001b[1;32mdef\u001b[0m \u001b[0m_getitem_tuple\u001b[0m\u001b[1;33m(\u001b[0m\u001b[0mself\u001b[0m\u001b[1;33m,\u001b[0m \u001b[0mtup\u001b[0m\u001b[1;33m:\u001b[0m \u001b[0mTuple\u001b[0m\u001b[1;33m)\u001b[0m\u001b[1;33m:\u001b[0m\u001b[1;33m\u001b[0m\u001b[1;33m\u001b[0m\u001b[0m\n\u001b[0;32m   1449\u001b[0m \u001b[1;33m\u001b[0m\u001b[0m\n\u001b[1;32m-> 1450\u001b[1;33m         \u001b[0mself\u001b[0m\u001b[1;33m.\u001b[0m\u001b[0m_has_valid_tuple\u001b[0m\u001b[1;33m(\u001b[0m\u001b[0mtup\u001b[0m\u001b[1;33m)\u001b[0m\u001b[1;33m\u001b[0m\u001b[1;33m\u001b[0m\u001b[0m\n\u001b[0m\u001b[0;32m   1451\u001b[0m         \u001b[1;32mwith\u001b[0m \u001b[0msuppress\u001b[0m\u001b[1;33m(\u001b[0m\u001b[0mIndexingError\u001b[0m\u001b[1;33m)\u001b[0m\u001b[1;33m:\u001b[0m\u001b[1;33m\u001b[0m\u001b[1;33m\u001b[0m\u001b[0m\n\u001b[0;32m   1452\u001b[0m             \u001b[1;32mreturn\u001b[0m \u001b[0mself\u001b[0m\u001b[1;33m.\u001b[0m\u001b[0m_getitem_lowerdim\u001b[0m\u001b[1;33m(\u001b[0m\u001b[0mtup\u001b[0m\u001b[1;33m)\u001b[0m\u001b[1;33m\u001b[0m\u001b[1;33m\u001b[0m\u001b[0m\n",
      "\u001b[1;32mD:\\anaconda\\lib\\site-packages\\pandas\\core\\indexing.py\u001b[0m in \u001b[0;36m_has_valid_tuple\u001b[1;34m(self, key)\u001b[0m\n\u001b[0;32m    721\u001b[0m         \u001b[1;32mfor\u001b[0m \u001b[0mi\u001b[0m\u001b[1;33m,\u001b[0m \u001b[0mk\u001b[0m \u001b[1;32min\u001b[0m \u001b[0menumerate\u001b[0m\u001b[1;33m(\u001b[0m\u001b[0mkey\u001b[0m\u001b[1;33m)\u001b[0m\u001b[1;33m:\u001b[0m\u001b[1;33m\u001b[0m\u001b[1;33m\u001b[0m\u001b[0m\n\u001b[0;32m    722\u001b[0m             \u001b[1;32mtry\u001b[0m\u001b[1;33m:\u001b[0m\u001b[1;33m\u001b[0m\u001b[1;33m\u001b[0m\u001b[0m\n\u001b[1;32m--> 723\u001b[1;33m                 \u001b[0mself\u001b[0m\u001b[1;33m.\u001b[0m\u001b[0m_validate_key\u001b[0m\u001b[1;33m(\u001b[0m\u001b[0mk\u001b[0m\u001b[1;33m,\u001b[0m \u001b[0mi\u001b[0m\u001b[1;33m)\u001b[0m\u001b[1;33m\u001b[0m\u001b[1;33m\u001b[0m\u001b[0m\n\u001b[0m\u001b[0;32m    724\u001b[0m             \u001b[1;32mexcept\u001b[0m \u001b[0mValueError\u001b[0m \u001b[1;32mas\u001b[0m \u001b[0merr\u001b[0m\u001b[1;33m:\u001b[0m\u001b[1;33m\u001b[0m\u001b[1;33m\u001b[0m\u001b[0m\n\u001b[0;32m    725\u001b[0m                 raise ValueError(\n",
      "\u001b[1;32mD:\\anaconda\\lib\\site-packages\\pandas\\core\\indexing.py\u001b[0m in \u001b[0;36m_validate_key\u001b[1;34m(self, key, axis)\u001b[0m\n\u001b[0;32m   1367\u001b[0m             \u001b[1;31m# check that the key has a numeric dtype\u001b[0m\u001b[1;33m\u001b[0m\u001b[1;33m\u001b[0m\u001b[1;33m\u001b[0m\u001b[0m\n\u001b[0;32m   1368\u001b[0m             \u001b[1;32mif\u001b[0m \u001b[1;32mnot\u001b[0m \u001b[0mis_numeric_dtype\u001b[0m\u001b[1;33m(\u001b[0m\u001b[0marr\u001b[0m\u001b[1;33m.\u001b[0m\u001b[0mdtype\u001b[0m\u001b[1;33m)\u001b[0m\u001b[1;33m:\u001b[0m\u001b[1;33m\u001b[0m\u001b[1;33m\u001b[0m\u001b[0m\n\u001b[1;32m-> 1369\u001b[1;33m                 \u001b[1;32mraise\u001b[0m \u001b[0mIndexError\u001b[0m\u001b[1;33m(\u001b[0m\u001b[1;34mf\".iloc requires numeric indexers, got {arr}\"\u001b[0m\u001b[1;33m)\u001b[0m\u001b[1;33m\u001b[0m\u001b[1;33m\u001b[0m\u001b[0m\n\u001b[0m\u001b[0;32m   1370\u001b[0m \u001b[1;33m\u001b[0m\u001b[0m\n\u001b[0;32m   1371\u001b[0m             \u001b[1;31m# check that the key does not exceed the maximum size of the index\u001b[0m\u001b[1;33m\u001b[0m\u001b[1;33m\u001b[0m\u001b[1;33m\u001b[0m\u001b[0m\n",
      "\u001b[1;31mIndexError\u001b[0m: .iloc requires numeric indexers, got ['Manufacturer' 'Model' 'Type']"
     ]
    }
   ],
   "source": [
    "import pandas as pd\n",
    "\n",
    "# Read the CSV data into a DataFrame\n",
    "df = pd.read_csv('https://raw.githubusercontent.com/selva86/datasets/master/Cars93_miss.csv')\n",
    "\n",
    "# Filter every 20th row starting from the 1st row (row 0)\n",
    "filtered_data = df.iloc[::20, ['Manufacturer', 'Model', 'Type']]\n",
    "\n",
    "print(filtered_data)\n"
   ]
  },
  {
   "cell_type": "code",
   "execution_count": 8,
   "id": "dfffe677",
   "metadata": {},
   "outputs": [
    {
     "name": "stdout",
     "output_type": "stream",
     "text": [
      "   Manufacturer    Model     Type  Min.Price  Price  Max.Price  MPG.city  \\\n",
      "0         Acura  Integra    Small  12.900000   15.9  18.800000      25.0   \n",
      "1           NaN   Legend  Midsize  29.200000   33.9  38.700000      18.0   \n",
      "2          Audi       90  Compact  25.900000   29.1  32.300000      20.0   \n",
      "3          Audi      100  Midsize  17.118605   37.7  44.600000      19.0   \n",
      "4           BMW     535i  Midsize  17.118605   30.0  21.459091      22.0   \n",
      "..          ...      ...      ...        ...    ...        ...       ...   \n",
      "88   Volkswagen  Eurovan      Van  16.600000   19.7  22.700000      17.0   \n",
      "89   Volkswagen   Passat  Compact  17.600000   20.0  22.400000      21.0   \n",
      "90   Volkswagen  Corrado   Sporty  22.900000   23.3  23.700000      18.0   \n",
      "91        Volvo      240  Compact  21.800000   22.7  23.500000      21.0   \n",
      "92          NaN      850  Midsize  24.800000   26.7  28.500000      20.0   \n",
      "\n",
      "    MPG.highway             AirBags DriveTrain  ... Passengers  Length  \\\n",
      "0          31.0                None      Front  ...        5.0   177.0   \n",
      "1          25.0  Driver & Passenger      Front  ...        5.0   195.0   \n",
      "2          26.0         Driver only      Front  ...        5.0   180.0   \n",
      "3          26.0  Driver & Passenger        NaN  ...        6.0   193.0   \n",
      "4          30.0                 NaN       Rear  ...        4.0   186.0   \n",
      "..          ...                 ...        ...  ...        ...     ...   \n",
      "88         21.0                None      Front  ...        7.0   187.0   \n",
      "89         30.0                None      Front  ...        5.0   180.0   \n",
      "90         25.0                None      Front  ...        4.0   159.0   \n",
      "91         28.0         Driver only       Rear  ...        5.0   190.0   \n",
      "92         28.0  Driver & Passenger      Front  ...        5.0   184.0   \n",
      "\n",
      "    Wheelbase  Width  Turn.circle Rear.seat.room  Luggage.room  Weight  \\\n",
      "0       102.0   68.0         37.0           26.5           NaN  2705.0   \n",
      "1       115.0   71.0         38.0           30.0          15.0  3560.0   \n",
      "2       102.0   67.0         37.0           28.0          14.0  3375.0   \n",
      "3       106.0    NaN         37.0           31.0          17.0  3405.0   \n",
      "4       109.0   69.0         39.0           27.0          13.0  3640.0   \n",
      "..        ...    ...          ...            ...           ...     ...   \n",
      "88      115.0   72.0         38.0           34.0           NaN  3960.0   \n",
      "89      103.0   67.0         35.0           31.5          14.0  2985.0   \n",
      "90       97.0   66.0         36.0           26.0          15.0  2810.0   \n",
      "91      104.0   67.0         37.0           29.5          14.0  2985.0   \n",
      "92      105.0   69.0         38.0           30.0          15.0  3245.0   \n",
      "\n",
      "     Origin                Make  \n",
      "0   non-USA       Acura Integra  \n",
      "1   non-USA        Acura Legend  \n",
      "2   non-USA             Audi 90  \n",
      "3   non-USA            Audi 100  \n",
      "4   non-USA            BMW 535i  \n",
      "..      ...                 ...  \n",
      "88      NaN  Volkswagen Eurovan  \n",
      "89  non-USA   Volkswagen Passat  \n",
      "90  non-USA  Volkswagen Corrado  \n",
      "91  non-USA           Volvo 240  \n",
      "92  non-USA           Volvo 850  \n",
      "\n",
      "[93 rows x 27 columns]\n"
     ]
    }
   ],
   "source": [
    "import pandas as pd\n",
    "\n",
    "# Read the CSV data into a DataFrame\n",
    "df = pd.read_csv('https://raw.githubusercontent.com/selva86/datasets/master/Cars93_miss.csv')\n",
    "\n",
    "# Calculate the mean for 'Min.Price' and 'Max.Price' columns\n",
    "min_price_mean = df['Min.Price'].mean()\n",
    "max_price_mean = df['Max.Price'].mean()\n",
    "\n",
    "# Replace missing values with their respective means\n",
    "df['Min.Price'].fillna(min_price_mean, inplace=True)\n",
    "df['Max.Price'].fillna(max_price_mean, inplace=True)\n",
    "\n",
    "# Display the DataFrame with missing values replaced\n",
    "print(df)\n"
   ]
  },
  {
   "cell_type": "code",
   "execution_count": 9,
   "id": "294d1bd7",
   "metadata": {},
   "outputs": [
    {
     "name": "stdout",
     "output_type": "stream",
     "text": [
      "     0   1   2   3\n",
      "1   38  35  24  15\n",
      "4   34  22  22  29\n",
      "5   32  33  36  22\n",
      "7   22  31  33  15\n",
      "9   17  21  38  34\n",
      "10  29  37  19  36\n",
      "11  23  39  17  29\n",
      "12  12  38  24  27\n"
     ]
    }
   ],
   "source": [
    "import pandas as pd\n",
    "import numpy as np\n",
    "\n",
    "# Create a DataFrame with random integer values\n",
    "data = np.random.randint(10, 40, 60).reshape(-1, 4)\n",
    "df = pd.DataFrame(data)\n",
    "\n",
    "# Calculate the row sums\n",
    "row_sums = df.sum(axis=1)\n",
    "\n",
    "# Get the rows where the sum is greater than 100\n",
    "rows_with_sum_gt_100 = df[row_sums > 100]\n",
    "\n",
    "# Display the rows\n",
    "print(rows_with_sum_gt_100)\n"
   ]
  },
  {
   "cell_type": "code",
   "execution_count": null,
   "id": "682d46fa",
   "metadata": {},
   "outputs": [],
   "source": []
  },
  {
   "cell_type": "code",
   "execution_count": null,
   "id": "acfae159",
   "metadata": {},
   "outputs": [],
   "source": []
  },
  {
   "cell_type": "code",
   "execution_count": null,
   "id": "462c913b",
   "metadata": {},
   "outputs": [],
   "source": []
  }
 ],
 "metadata": {
  "kernelspec": {
   "display_name": "Python 3",
   "language": "python",
   "name": "python3"
  },
  "language_info": {
   "codemirror_mode": {
    "name": "ipython",
    "version": 3
   },
   "file_extension": ".py",
   "mimetype": "text/x-python",
   "name": "python",
   "nbconvert_exporter": "python",
   "pygments_lexer": "ipython3",
   "version": "3.8.8"
  }
 },
 "nbformat": 4,
 "nbformat_minor": 5
}
